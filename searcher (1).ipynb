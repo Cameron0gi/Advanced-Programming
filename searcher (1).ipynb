{
 "cells": [
  {
   "cell_type": "code",
   "execution_count": 1,
   "id": "7fec632e",
   "metadata": {},
   "outputs": [
    {
     "data": {
      "text/plain": [
       "'\\nAuthor: Cameron Ogiugo\\n\\nThe below document was created to analyse the accelaration of a falling phone on various test datasets.\\n\\nIt reads the data from a csv file created using the Physics Toolbox sensor suite, \\nspecifically the linear accelerometer. It allows for user input of a csv file.\\n\\nIt outputs the estimated drop time, collision/landing time and elapsed time in air.\\n\\nExample Files:\\nFalltest1.csv\\nFalltest2.csv\\nFalltest3.csv\\nFalltestexperiment.csv\\n'"
      ]
     },
     "execution_count": 1,
     "metadata": {},
     "output_type": "execute_result"
    }
   ],
   "source": [
    "\"\"\"\n",
    "Author: Cameron Ogiugo\n",
    "\n",
    "The below document was created to analyse the accelaration of a falling phone on various test datasets.\n",
    "\n",
    "It reads the data from a csv file created using the Physics Toolbox sensor suite, \n",
    "specifically the linear accelerometer. It allows for user input of a csv file.\n",
    "\n",
    "It outputs the estimated drop time, collision/landing time and elapsed time in air.\n",
    "\n",
    "Example Files:\n",
    "Falltest1.csv\n",
    "Falltest2.csv\n",
    "Falltest3.csv\n",
    "Falltestexperiment.csv\n",
    "\"\"\"\n",
    "\n"
   ]
  },
  {
   "cell_type": "code",
   "execution_count": 1,
   "id": "e9594b69",
   "metadata": {},
   "outputs": [],
   "source": [
    "from scipy.stats import norm  # import scipy for data analysis\n",
    "import numpy as np\n",
    "import pandas as pd # import pandas for reading data"
   ]
  },
  {
   "cell_type": "code",
   "execution_count": 2,
   "id": "d941b6af",
   "metadata": {},
   "outputs": [],
   "source": [
    "data = pd.read_csv(\"Falltest1.csv\") # We read the data using pandas\n",
    "time = (data['time'])  # Set a variable time equal to all data in the 'time' column of the csv file\n",
    "atotal = (data['atotal'])  # Set a variable atotal equal to all data in the 'atotal' column of the csv file\n",
    "gravity=9.81"
   ]
  },
  {
   "cell_type": "code",
   "execution_count": 3,
   "id": "4282d0e3",
   "metadata": {},
   "outputs": [],
   "source": [
    "falldata = np.argmax(atotal>=gravity) # Identify where accelaration is 9.81 (caused by gravity), which means it is when object is dropped\n",
    "new_falldata = atotal[falldata::]  #Select all data after the object is dropped\n",
    "new_falldata=new_falldata.tolist()  #Convert data to list data type\n",
    "\n",
    "mean = np.mean(new_falldata)   # Calculate mean of fall data using numpy\n",
    "std = np.std(new_falldata)     # Calculate standard deviation of fall data using numpy"
   ]
  },
  {
   "cell_type": "code",
   "execution_count": 4,
   "id": "57c0f7ad",
   "metadata": {},
   "outputs": [],
   "source": [
    "for i in new_falldata:   \n",
    "    if i < (mean/std):    # Iterate through until the result is less than the mean/standard deviation\n",
    "        totalindex = (falldata+new_falldata.index(i))   # create index value of data of whole data\n",
    "        break  # end loop once found\n",
    "        "
   ]
  },
  {
   "cell_type": "code",
   "execution_count": 5,
   "id": "2faf4720",
   "metadata": {
    "scrolled": false
   },
   "outputs": [
    {
     "name": "stdout",
     "output_type": "stream",
     "text": [
      "Object was dropped 2.044706106185913 seconds after recording began\n",
      "Time object collided 3.2520570755004883 seconds after recording began\n",
      "Time spent falling is 1.2073509693145752 seconds\n"
     ]
    }
   ],
   "source": [
    "print('Object was dropped ' + str(time[falldata]) + ' seconds after recording began')  # Return all values for user to read\n",
    "print('Time object collided '  + str(time[totalindex]) + ' seconds after recording began')\n",
    "print('Time spent falling is' + ' ' + str((time[totalindex]-time[falldata])) + ' seconds')"
   ]
  }
 ],
 "metadata": {
  "kernelspec": {
   "display_name": "Python 3 (ipykernel)",
   "language": "python",
   "name": "python3"
  },
  "language_info": {
   "codemirror_mode": {
    "name": "ipython",
    "version": 3
   },
   "file_extension": ".py",
   "mimetype": "text/x-python",
   "name": "python",
   "nbconvert_exporter": "python",
   "pygments_lexer": "ipython3",
   "version": "3.9.12"
  }
 },
 "nbformat": 4,
 "nbformat_minor": 5
}
